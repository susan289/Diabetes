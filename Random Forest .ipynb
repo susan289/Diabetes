{
 "cells": [
  {
   "cell_type": "code",
   "execution_count": 1,
   "metadata": {},
   "outputs": [],
   "source": [
    "import pandas as pd\n",
    "import numpy as np\n",
    "import matplotlib.pyplot as plt\n",
    "import seaborn as sns\n",
    "from sklearn import preprocessing\n",
    "from scipy import stats\n",
    "%matplotlib inline"
   ]
  },
  {
   "cell_type": "code",
   "execution_count": 3,
   "metadata": {},
   "outputs": [],
   "source": [
    "# replacing string in to binary\n",
    "df = pd.read_csv('cleaned_data.csv')\n",
    "df['change_in_meds'] = df['change_in_meds'].replace('Ch', 1)\n",
    "df['change_in_meds'] = df['change_in_meds'].replace('No', 0)"
   ]
  },
  {
   "cell_type": "code",
   "execution_count": 4,
   "metadata": {},
   "outputs": [
    {
     "data": {
      "text/plain": [
       "not_prescribed    99492\n",
       "Name: citoglipton, dtype: int64"
      ]
     },
     "execution_count": 4,
     "metadata": {},
     "output_type": "execute_result"
    }
   ],
   "source": [
    "df['citoglipton'].value_counts()"
   ]
  },
  {
   "cell_type": "code",
   "execution_count": 5,
   "metadata": {},
   "outputs": [
    {
     "data": {
      "text/plain": [
       "not_prescribed    99492\n",
       "Name: examide, dtype: int64"
      ]
     },
     "execution_count": 5,
     "metadata": {},
     "output_type": "execute_result"
    }
   ],
   "source": [
    "df['examide'].value_counts()"
   ]
  },
  {
   "cell_type": "code",
   "execution_count": 6,
   "metadata": {},
   "outputs": [],
   "source": [
    "to_drop = ['citoglipton','examide']\n",
    "\n",
    "df.drop(to_drop, inplace=True, axis=1)"
   ]
  },
  {
   "cell_type": "code",
   "execution_count": 7,
   "metadata": {},
   "outputs": [
    {
     "data": {
      "text/html": [
       "<div>\n",
       "<style scoped>\n",
       "    .dataframe tbody tr th:only-of-type {\n",
       "        vertical-align: middle;\n",
       "    }\n",
       "\n",
       "    .dataframe tbody tr th {\n",
       "        vertical-align: top;\n",
       "    }\n",
       "\n",
       "    .dataframe thead th {\n",
       "        text-align: right;\n",
       "    }\n",
       "</style>\n",
       "<table border=\"1\" class=\"dataframe\">\n",
       "  <thead>\n",
       "    <tr style=\"text-align: right;\">\n",
       "      <th></th>\n",
       "      <th>Unnamed: 0</th>\n",
       "      <th>race</th>\n",
       "      <th>gender</th>\n",
       "      <th>age</th>\n",
       "      <th>days_in_hospital</th>\n",
       "      <th>num_lab_procedures</th>\n",
       "      <th>num_not_lab_procedures</th>\n",
       "      <th>num_current_medications</th>\n",
       "      <th>num_outpatient_appointments</th>\n",
       "      <th>num_previous_emergencies</th>\n",
       "      <th>...</th>\n",
       "      <th>tolazamide</th>\n",
       "      <th>insulin</th>\n",
       "      <th>glyburide_metformin</th>\n",
       "      <th>glipizide_metformin</th>\n",
       "      <th>glimepiride_pioglitazone</th>\n",
       "      <th>metformin_rosiglitazone</th>\n",
       "      <th>metformin_pioglitazone</th>\n",
       "      <th>change_in_meds</th>\n",
       "      <th>diabates_med_prescribed</th>\n",
       "      <th>readmitted</th>\n",
       "    </tr>\n",
       "  </thead>\n",
       "  <tbody>\n",
       "    <tr>\n",
       "      <th>0</th>\n",
       "      <td>0</td>\n",
       "      <td>Caucasian</td>\n",
       "      <td>1</td>\n",
       "      <td>1</td>\n",
       "      <td>1</td>\n",
       "      <td>41</td>\n",
       "      <td>0</td>\n",
       "      <td>1</td>\n",
       "      <td>0</td>\n",
       "      <td>0</td>\n",
       "      <td>...</td>\n",
       "      <td>not_prescribed</td>\n",
       "      <td>not_prescribed</td>\n",
       "      <td>not_prescribed</td>\n",
       "      <td>not_prescribed</td>\n",
       "      <td>not_prescribed</td>\n",
       "      <td>not_prescribed</td>\n",
       "      <td>not_prescribed</td>\n",
       "      <td>0</td>\n",
       "      <td>0</td>\n",
       "      <td>NO</td>\n",
       "    </tr>\n",
       "    <tr>\n",
       "      <th>1</th>\n",
       "      <td>1</td>\n",
       "      <td>Caucasian</td>\n",
       "      <td>1</td>\n",
       "      <td>2</td>\n",
       "      <td>3</td>\n",
       "      <td>59</td>\n",
       "      <td>0</td>\n",
       "      <td>18</td>\n",
       "      <td>0</td>\n",
       "      <td>0</td>\n",
       "      <td>...</td>\n",
       "      <td>not_prescribed</td>\n",
       "      <td>dosage_increased</td>\n",
       "      <td>not_prescribed</td>\n",
       "      <td>not_prescribed</td>\n",
       "      <td>not_prescribed</td>\n",
       "      <td>not_prescribed</td>\n",
       "      <td>not_prescribed</td>\n",
       "      <td>1</td>\n",
       "      <td>1</td>\n",
       "      <td>&gt;30</td>\n",
       "    </tr>\n",
       "    <tr>\n",
       "      <th>2</th>\n",
       "      <td>2</td>\n",
       "      <td>AfricanAmerican</td>\n",
       "      <td>1</td>\n",
       "      <td>3</td>\n",
       "      <td>2</td>\n",
       "      <td>11</td>\n",
       "      <td>5</td>\n",
       "      <td>13</td>\n",
       "      <td>2</td>\n",
       "      <td>0</td>\n",
       "      <td>...</td>\n",
       "      <td>not_prescribed</td>\n",
       "      <td>not_prescribed</td>\n",
       "      <td>not_prescribed</td>\n",
       "      <td>not_prescribed</td>\n",
       "      <td>not_prescribed</td>\n",
       "      <td>not_prescribed</td>\n",
       "      <td>not_prescribed</td>\n",
       "      <td>0</td>\n",
       "      <td>1</td>\n",
       "      <td>NO</td>\n",
       "    </tr>\n",
       "  </tbody>\n",
       "</table>\n",
       "<p>3 rows × 36 columns</p>\n",
       "</div>"
      ],
      "text/plain": [
       "   Unnamed: 0             race  gender  age  days_in_hospital  \\\n",
       "0           0        Caucasian       1    1                 1   \n",
       "1           1        Caucasian       1    2                 3   \n",
       "2           2  AfricanAmerican       1    3                 2   \n",
       "\n",
       "   num_lab_procedures  num_not_lab_procedures  num_current_medications  \\\n",
       "0                  41                       0                        1   \n",
       "1                  59                       0                       18   \n",
       "2                  11                       5                       13   \n",
       "\n",
       "   num_outpatient_appointments  num_previous_emergencies  ...      tolazamide  \\\n",
       "0                            0                         0  ...  not_prescribed   \n",
       "1                            0                         0  ...  not_prescribed   \n",
       "2                            2                         0  ...  not_prescribed   \n",
       "\n",
       "            insulin glyburide_metformin glipizide_metformin  \\\n",
       "0    not_prescribed      not_prescribed      not_prescribed   \n",
       "1  dosage_increased      not_prescribed      not_prescribed   \n",
       "2    not_prescribed      not_prescribed      not_prescribed   \n",
       "\n",
       "  glimepiride_pioglitazone metformin_rosiglitazone metformin_pioglitazone  \\\n",
       "0           not_prescribed          not_prescribed         not_prescribed   \n",
       "1           not_prescribed          not_prescribed         not_prescribed   \n",
       "2           not_prescribed          not_prescribed         not_prescribed   \n",
       "\n",
       "  change_in_meds diabates_med_prescribed readmitted  \n",
       "0              0                       0         NO  \n",
       "1              1                       1        >30  \n",
       "2              0                       1         NO  \n",
       "\n",
       "[3 rows x 36 columns]"
      ]
     },
     "execution_count": 7,
     "metadata": {},
     "output_type": "execute_result"
    }
   ],
   "source": [
    "# replacing string in to binary\n",
    "df['diabates_med_prescribed'] = df['diabates_med_prescribed'].replace('No', 0)\n",
    "df['diabates_med_prescribed'] = df['diabates_med_prescribed'].replace('Yes', 1)\n",
    "df['gender'] = df['gender'].replace('Male', 0)\n",
    "df['gender'] = df['gender'].replace('Female', 1)\n",
    "\n",
    "#replace age code intervals 0- 10: 1, 10-20:2 etc\n",
    "for i in range (0,10):\n",
    "    df['age']=df['age'].replace('['+str(10*i)+ '-' +str(10*(i+1))+')', i+1)\n",
    "df.head(3)"
   ]
  },
  {
   "cell_type": "code",
   "execution_count": 8,
   "metadata": {},
   "outputs": [],
   "source": [
    "meds = ['metformin', 'nateglinide', 'chlorpropamide', 'glimepiride',\n",
    "        'acetohexamide', 'glipizide','repaglinide','glyburide', 'tolbutamide', 'pioglitazone', 'rosiglitazone',\n",
    "        'acarbose', 'miglitol', 'troglitazone','tolazamide','insulin',  'glyburide_metformin',\n",
    "        'glipizide_metformin', 'glimepiride_pioglitazone', \n",
    "        'metformin_rosiglitazone', 'metformin_pioglitazone']\n",
    "\n",
    "for col in meds:\n",
    "    df[col]=df[col].replace('not_prescribed', 0)\n",
    "    df[col]=df[col].replace('no_change_dosage', 0)\n",
    "    df[col]=df[col].replace('dosage_increased', 1)\n",
    "    df[col]=df[col].replace('dosage_decreased', 1)"
   ]
  },
  {
   "cell_type": "code",
   "execution_count": 9,
   "metadata": {},
   "outputs": [],
   "source": [
    "column_names1 =['race']\n",
    "new_values = {'AfricanAmerican': 0, 'Asian':1, 'Caucasian': 3, 'Hispanic': 4, 'Other': 5 }\n",
    "for medicine in column_names1:\n",
    "    df[medicine] = df[medicine].replace(new_values)"
   ]
  },
  {
   "cell_type": "code",
   "execution_count": 75,
   "metadata": {},
   "outputs": [],
   "source": [
    "\n",
    "# train test split\n",
    "from sklearn.model_selection import train_test_split\n",
    "X = df.drop('readmitted', axis = 1)\n",
    "y = df.readmitted\n",
    "X_train, X_test, y_train, y_test = train_test_split(X, y, test_size=0.2, random_state = 42)"
   ]
  },
  {
   "cell_type": "code",
   "execution_count": 76,
   "metadata": {},
   "outputs": [
    {
     "data": {
      "text/plain": [
       "79593"
      ]
     },
     "execution_count": 76,
     "metadata": {},
     "output_type": "execute_result"
    }
   ],
   "source": [
    "#size of x train\n",
    "len(X_train)"
   ]
  },
  {
   "cell_type": "code",
   "execution_count": 78,
   "metadata": {},
   "outputs": [
    {
     "data": {
      "text/plain": [
       "RandomForestClassifier(bootstrap=True, ccp_alpha=0.0, class_weight=None,\n",
       "                       criterion='gini', max_depth=None, max_features='auto',\n",
       "                       max_leaf_nodes=None, max_samples=None,\n",
       "                       min_impurity_decrease=0.0, min_impurity_split=None,\n",
       "                       min_samples_leaf=1, min_samples_split=2,\n",
       "                       min_weight_fraction_leaf=0.0, n_estimators=300,\n",
       "                       n_jobs=None, oob_score=False, random_state=None,\n",
       "                       verbose=0, warm_start=False)"
      ]
     },
     "execution_count": 78,
     "metadata": {},
     "output_type": "execute_result"
    }
   ],
   "source": [
    "# builds multiple decision trees to get final outcome. We used 300 decision trees \n",
    "from sklearn.ensemble import RandomForestClassifier\n",
    "rfc = RandomForestClassifier(n_estimators = 300)\n",
    "rfc.fit(X_train,y_train)"
   ]
  },
  {
   "cell_type": "code",
   "execution_count": 79,
   "metadata": {},
   "outputs": [
    {
     "data": {
      "text/plain": [
       "0.5754560530679934"
      ]
     },
     "execution_count": 79,
     "metadata": {},
     "output_type": "execute_result"
    }
   ],
   "source": [
    "#accuracy of model\n",
    "rfc.score(X_test,y_test)"
   ]
  },
  {
   "cell_type": "code",
   "execution_count": 55,
   "metadata": {},
   "outputs": [],
   "source": [
    "rfc_pred= rfc.predict(X_test)"
   ]
  },
  {
   "cell_type": "code",
   "execution_count": 33,
   "metadata": {},
   "outputs": [],
   "source": [
    "#confusion matrix to vizualize performance of the algorithm\n",
    "from sklearn.metrics import confusion_matrix"
   ]
  },
  {
   "cell_type": "code",
   "execution_count": 86,
   "metadata": {},
   "outputs": [
    {
     "name": "stdout",
     "output_type": "stream",
     "text": [
      "[[  50  907 1279]\n",
      " [  63 2778 4214]\n",
      " [  37 2073 8498]]\n",
      "\n",
      "\n",
      "              precision    recall  f1-score   support\n",
      "\n",
      "         <30       0.33      0.02      0.04      2236\n",
      "         >30       0.48      0.39      0.43      7055\n",
      "          NO       0.61      0.80      0.69     10608\n",
      "\n",
      "    accuracy                           0.57     19899\n",
      "   macro avg       0.47      0.41      0.39     19899\n",
      "weighted avg       0.53      0.57      0.53     19899\n",
      "\n"
     ]
    }
   ],
   "source": [
    "#summary of predicioton results\n",
    "print(confusion_matrix(y_test,rfc_pred))\n",
    "print('\\n')\n",
    "print(classification_report(y_test,rfc_pred))"
   ]
  },
  {
   "cell_type": "code",
   "execution_count": 49,
   "metadata": {},
   "outputs": [
    {
     "data": {
      "text/plain": [
       "Text(69.0, 0.5, 'Truth')"
      ]
     },
     "execution_count": 49,
     "metadata": {},
     "output_type": "execute_result"
    },
    {
     "data": {
      "image/png": "[encoded data removed]",
      "text/plain": [
       "<Figure size 720x720 with 2 Axes>"
      ]
     },
     "metadata": {
      "needs_background": "light"
     },
     "output_type": "display_data"
    }
   ],
   "source": [
    "#plot visually\n",
    "plt.figure(figsize=(10,10))\n",
    "sns.heatmap(cm, annot = True)\n",
    "plt.xlabel('Predicted')\n",
    "plt.ylabel('Truth')\n",
    "# The model predicted 48 times 0 and truth was 0, model predicted 25 times 0, but truth was 2  )"
   ]
  },
  {
   "cell_type": "code",
   "execution_count": null,
   "metadata": {},
   "outputs": [],
   "source": []
  },
  {
   "cell_type": "code",
   "execution_count": null,
   "metadata": {},
   "outputs": [],
   "source": []
  },
  {
   "cell_type": "code",
   "execution_count": null,
   "metadata": {},
   "outputs": [],
   "source": []
  }
 ],
 "metadata": {
  "kernelspec": {
   "display_name": "Python 3",
   "language": "python",
   "name": "python3"
  },
  "language_info": {
   "codemirror_mode": {
    "name": "ipython",
    "version": 3
   },
   "file_extension": ".py",
   "mimetype": "text/x-python",
   "name": "python",
   "nbconvert_exporter": "python",
   "pygments_lexer": "ipython3",
   "version": "3.7.6"
  }
 },
 "nbformat": 4,
 "nbformat_minor": 4
}
