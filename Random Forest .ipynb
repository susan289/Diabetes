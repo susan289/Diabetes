{
 "cells": [
  {
   "cell_type": "code",
   "execution_count": 66,
   "metadata": {},
   "outputs": [],
   "source": [
    "import pandas as pd\n",
    "import numpy as np\n",
    "import matplotlib.pyplot as plt\n",
    "import seaborn as sns\n",
    "from sklearn import preprocessing\n",
    "from scipy import stats\n",
    "%matplotlib inline"
   ]
  },
  {
   "cell_type": "code",
   "execution_count": 67,
   "metadata": {},
   "outputs": [],
   "source": [
    "# replacing string in to binary\n",
    "df = pd.read_csv('cleaned_data.csv')\n",
    "df['change_in_meds'] = df['change_in_meds'].replace('Ch', 1)\n",
    "df['change_in_meds'] = df['change_in_meds'].replace('No', 0)"
   ]
  },
  {
   "cell_type": "code",
   "execution_count": 68,
   "metadata": {},
   "outputs": [
    {
     "data": {
      "text/plain": [
       "not_prescribed    99492\n",
       "Name: citoglipton, dtype: int64"
      ]
     },
     "execution_count": 68,
     "metadata": {},
     "output_type": "execute_result"
    }
   ],
   "source": [
    "df['citoglipton'].value_counts()"
   ]
  },
  {
   "cell_type": "code",
   "execution_count": 69,
   "metadata": {},
   "outputs": [
    {
     "data": {
      "text/plain": [
       "not_prescribed    99492\n",
       "Name: examide, dtype: int64"
      ]
     },
     "execution_count": 69,
     "metadata": {},
     "output_type": "execute_result"
    }
   ],
   "source": [
    "df['examide'].value_counts()"
   ]
  },
  {
   "cell_type": "code",
   "execution_count": 70,
   "metadata": {},
   "outputs": [],
   "source": [
    "to_drop = ['citoglipton','examide']\n",
    "\n",
    "df.drop(to_drop, inplace=True, axis=1)"
   ]
  },
  {
   "cell_type": "code",
   "execution_count": 71,
   "metadata": {},
   "outputs": [],
   "source": [
    "df = df.drop(['Unnamed: 0'], axis=1)\n"
   ]
  },
  {
   "cell_type": "code",
   "execution_count": 72,
   "metadata": {},
   "outputs": [
    {
     "data": {
      "text/html": [
       "<div>\n",
       "<style scoped>\n",
       "    .dataframe tbody tr th:only-of-type {\n",
       "        vertical-align: middle;\n",
       "    }\n",
       "\n",
       "    .dataframe tbody tr th {\n",
       "        vertical-align: top;\n",
       "    }\n",
       "\n",
       "    .dataframe thead th {\n",
       "        text-align: right;\n",
       "    }\n",
       "</style>\n",
       "<table border=\"1\" class=\"dataframe\">\n",
       "  <thead>\n",
       "    <tr style=\"text-align: right;\">\n",
       "      <th></th>\n",
       "      <th>race</th>\n",
       "      <th>gender</th>\n",
       "      <th>age</th>\n",
       "      <th>days_in_hospital</th>\n",
       "      <th>num_lab_procedures</th>\n",
       "      <th>num_not_lab_procedures</th>\n",
       "      <th>num_current_medications</th>\n",
       "      <th>num_outpatient_appointments</th>\n",
       "      <th>num_previous_emergencies</th>\n",
       "      <th>num_inpatient_overnight_stays</th>\n",
       "      <th>...</th>\n",
       "      <th>tolazamide</th>\n",
       "      <th>insulin</th>\n",
       "      <th>glyburide_metformin</th>\n",
       "      <th>glipizide_metformin</th>\n",
       "      <th>glimepiride_pioglitazone</th>\n",
       "      <th>metformin_rosiglitazone</th>\n",
       "      <th>metformin_pioglitazone</th>\n",
       "      <th>change_in_meds</th>\n",
       "      <th>diabates_med_prescribed</th>\n",
       "      <th>readmitted</th>\n",
       "    </tr>\n",
       "  </thead>\n",
       "  <tbody>\n",
       "    <tr>\n",
       "      <th>0</th>\n",
       "      <td>Caucasian</td>\n",
       "      <td>1</td>\n",
       "      <td>1</td>\n",
       "      <td>1</td>\n",
       "      <td>41</td>\n",
       "      <td>0</td>\n",
       "      <td>1</td>\n",
       "      <td>0</td>\n",
       "      <td>0</td>\n",
       "      <td>0</td>\n",
       "      <td>...</td>\n",
       "      <td>not_prescribed</td>\n",
       "      <td>not_prescribed</td>\n",
       "      <td>not_prescribed</td>\n",
       "      <td>not_prescribed</td>\n",
       "      <td>not_prescribed</td>\n",
       "      <td>not_prescribed</td>\n",
       "      <td>not_prescribed</td>\n",
       "      <td>0</td>\n",
       "      <td>0</td>\n",
       "      <td>NO</td>\n",
       "    </tr>\n",
       "    <tr>\n",
       "      <th>1</th>\n",
       "      <td>Caucasian</td>\n",
       "      <td>1</td>\n",
       "      <td>2</td>\n",
       "      <td>3</td>\n",
       "      <td>59</td>\n",
       "      <td>0</td>\n",
       "      <td>18</td>\n",
       "      <td>0</td>\n",
       "      <td>0</td>\n",
       "      <td>0</td>\n",
       "      <td>...</td>\n",
       "      <td>not_prescribed</td>\n",
       "      <td>dosage_increased</td>\n",
       "      <td>not_prescribed</td>\n",
       "      <td>not_prescribed</td>\n",
       "      <td>not_prescribed</td>\n",
       "      <td>not_prescribed</td>\n",
       "      <td>not_prescribed</td>\n",
       "      <td>1</td>\n",
       "      <td>1</td>\n",
       "      <td>&gt;30</td>\n",
       "    </tr>\n",
       "    <tr>\n",
       "      <th>2</th>\n",
       "      <td>AfricanAmerican</td>\n",
       "      <td>1</td>\n",
       "      <td>3</td>\n",
       "      <td>2</td>\n",
       "      <td>11</td>\n",
       "      <td>5</td>\n",
       "      <td>13</td>\n",
       "      <td>2</td>\n",
       "      <td>0</td>\n",
       "      <td>1</td>\n",
       "      <td>...</td>\n",
       "      <td>not_prescribed</td>\n",
       "      <td>not_prescribed</td>\n",
       "      <td>not_prescribed</td>\n",
       "      <td>not_prescribed</td>\n",
       "      <td>not_prescribed</td>\n",
       "      <td>not_prescribed</td>\n",
       "      <td>not_prescribed</td>\n",
       "      <td>0</td>\n",
       "      <td>1</td>\n",
       "      <td>NO</td>\n",
       "    </tr>\n",
       "  </tbody>\n",
       "</table>\n",
       "<p>3 rows × 35 columns</p>\n",
       "</div>"
      ],
      "text/plain": [
       "              race  gender  age  days_in_hospital  num_lab_procedures  \\\n",
       "0        Caucasian       1    1                 1                  41   \n",
       "1        Caucasian       1    2                 3                  59   \n",
       "2  AfricanAmerican       1    3                 2                  11   \n",
       "\n",
       "   num_not_lab_procedures  num_current_medications  \\\n",
       "0                       0                        1   \n",
       "1                       0                       18   \n",
       "2                       5                       13   \n",
       "\n",
       "   num_outpatient_appointments  num_previous_emergencies  \\\n",
       "0                            0                         0   \n",
       "1                            0                         0   \n",
       "2                            2                         0   \n",
       "\n",
       "   num_inpatient_overnight_stays  ...      tolazamide           insulin  \\\n",
       "0                              0  ...  not_prescribed    not_prescribed   \n",
       "1                              0  ...  not_prescribed  dosage_increased   \n",
       "2                              1  ...  not_prescribed    not_prescribed   \n",
       "\n",
       "  glyburide_metformin glipizide_metformin glimepiride_pioglitazone  \\\n",
       "0      not_prescribed      not_prescribed           not_prescribed   \n",
       "1      not_prescribed      not_prescribed           not_prescribed   \n",
       "2      not_prescribed      not_prescribed           not_prescribed   \n",
       "\n",
       "  metformin_rosiglitazone metformin_pioglitazone change_in_meds  \\\n",
       "0          not_prescribed         not_prescribed              0   \n",
       "1          not_prescribed         not_prescribed              1   \n",
       "2          not_prescribed         not_prescribed              0   \n",
       "\n",
       "  diabates_med_prescribed readmitted  \n",
       "0                       0         NO  \n",
       "1                       1        >30  \n",
       "2                       1         NO  \n",
       "\n",
       "[3 rows x 35 columns]"
      ]
     },
     "execution_count": 72,
     "metadata": {},
     "output_type": "execute_result"
    }
   ],
   "source": [
    "# replacing string in to binary\n",
    "df['diabates_med_prescribed'] = df['diabates_med_prescribed'].replace('No', 0)\n",
    "df['diabates_med_prescribed'] = df['diabates_med_prescribed'].replace('Yes', 1)\n",
    "df['gender'] = df['gender'].replace('Male', 0)\n",
    "df['gender'] = df['gender'].replace('Female', 1)\n",
    "\n",
    "#replace age code intervals 0- 10: 1, 10-20:2 etc\n",
    "for i in range (0,10):\n",
    "    df['age']=df['age'].replace('['+str(10*i)+ '-' +str(10*(i+1))+')', i+1)\n",
    "df.head(3)"
   ]
  },
  {
   "cell_type": "code",
   "execution_count": 73,
   "metadata": {},
   "outputs": [],
   "source": [
    "meds = ['metformin', 'nateglinide', 'chlorpropamide', 'glimepiride',\n",
    "        'acetohexamide', 'glipizide','repaglinide','glyburide', 'tolbutamide', 'pioglitazone', 'rosiglitazone',\n",
    "        'acarbose', 'miglitol', 'troglitazone','tolazamide','insulin',  'glyburide_metformin',\n",
    "        'glipizide_metformin', 'glimepiride_pioglitazone', \n",
    "        'metformin_rosiglitazone', 'metformin_pioglitazone']\n",
    "\n",
    "for col in meds:\n",
    "    df[col]=df[col].replace('not_prescribed', 0)\n",
    "    df[col]=df[col].replace('no_change_dosage', 0)\n",
    "    df[col]=df[col].replace('dosage_increased', 1)\n",
    "    df[col]=df[col].replace('dosage_decreased', 1)"
   ]
  },
  {
   "cell_type": "code",
   "execution_count": 74,
   "metadata": {},
   "outputs": [],
   "source": [
    "column_names1 =['race']\n",
    "new_values = {'AfricanAmerican': 0, 'Asian':1, 'Caucasian': 3, 'Hispanic': 4, 'Other': 5 }\n",
    "for medicine in column_names1:\n",
    "    df[medicine] = df[medicine].replace(new_values)"
   ]
  },
  {
   "cell_type": "code",
   "execution_count": 75,
   "metadata": {},
   "outputs": [],
   "source": [
    "\n",
    "# train test split\n",
    "from sklearn.model_selection import train_test_split\n",
    "X = df.drop('readmitted', axis = 1)\n",
    "y = df.readmitted\n",
    "X_train, X_test, y_train, y_test = train_test_split(X, y, test_size=0.2, random_state = 42)"
   ]
  },
  {
   "cell_type": "code",
   "execution_count": 76,
   "metadata": {},
   "outputs": [
    {
     "data": {
      "text/plain": [
       "79593"
      ]
     },
     "execution_count": 76,
     "metadata": {},
     "output_type": "execute_result"
    }
   ],
   "source": [
    "#size of x train\n",
    "len(X_train)"
   ]
  },
  {
   "cell_type": "code",
   "execution_count": 77,
   "metadata": {},
   "outputs": [
    {
     "data": {
      "text/plain": [
       "RandomForestClassifier(bootstrap=True, ccp_alpha=0.0, class_weight=None,\n",
       "                       criterion='gini', max_depth=None, max_features='auto',\n",
       "                       max_leaf_nodes=None, max_samples=None,\n",
       "                       min_impurity_decrease=0.0, min_impurity_split=None,\n",
       "                       min_samples_leaf=1, min_samples_split=2,\n",
       "                       min_weight_fraction_leaf=0.0, n_estimators=1000,\n",
       "                       n_jobs=None, oob_score=False, random_state=None,\n",
       "                       verbose=0, warm_start=False)"
      ]
     },
     "execution_count": 77,
     "metadata": {},
     "output_type": "execute_result"
    }
   ],
   "source": [
    "# builds multiple decision trees to get final outcome. We used 1000 decision trees as we had \n",
    "#an abundant of data so to improve accuracy of model\n",
    "from sklearn.ensemble import RandomForestClassifier\n",
    "rfc = RandomForestClassifier(n_estimators = 1000)\n",
    "rfc.fit(X_train,y_train)"
   ]
  },
  {
   "cell_type": "code",
   "execution_count": 78,
   "metadata": {},
   "outputs": [
    {
     "data": {
      "text/plain": [
       "0.552791597567717"
      ]
     },
     "execution_count": 78,
     "metadata": {},
     "output_type": "execute_result"
    }
   ],
   "source": [
    "#accuracy of model\n",
    "rfc.score(X_test,y_test)"
   ]
  },
  {
   "cell_type": "code",
   "execution_count": 49,
   "metadata": {},
   "outputs": [],
   "source": [
    "#confusion matrix to vizualize performance of the algorithm\n",
    "from sklearn.metrics import confusion_matrix"
   ]
  },
  {
   "cell_type": "code",
   "execution_count": 53,
   "metadata": {},
   "outputs": [
    {
     "name": "stdout",
     "output_type": "stream",
     "text": [
      "[[  43  885 1308]\n",
      " [  46 2734 4275]\n",
      " [  17 1919 8672]]\n",
      "\n",
      "\n"
     ]
    },
    {
     "ename": "NameError",
     "evalue": "name 'classification_report' is not defined",
     "output_type": "error",
     "traceback": [
      "\u001b[0;31m---------------------------------------------------------------------------\u001b[0m",
      "\u001b[0;31mNameError\u001b[0m                                 Traceback (most recent call last)",
      "\u001b[0;32m<ipython-input-53-530305d2d28b>\u001b[0m in \u001b[0;36m<module>\u001b[0;34m\u001b[0m\n\u001b[1;32m      3\u001b[0m \u001b[0mprint\u001b[0m\u001b[0;34m(\u001b[0m\u001b[0mconfusion_matrix\u001b[0m\u001b[0;34m(\u001b[0m\u001b[0my_test\u001b[0m\u001b[0;34m,\u001b[0m\u001b[0mrfc_pred\u001b[0m\u001b[0;34m)\u001b[0m\u001b[0;34m)\u001b[0m\u001b[0;34m\u001b[0m\u001b[0;34m\u001b[0m\u001b[0m\n\u001b[1;32m      4\u001b[0m \u001b[0mprint\u001b[0m\u001b[0;34m(\u001b[0m\u001b[0;34m'\\n'\u001b[0m\u001b[0;34m)\u001b[0m\u001b[0;34m\u001b[0m\u001b[0;34m\u001b[0m\u001b[0m\n\u001b[0;32m----> 5\u001b[0;31m \u001b[0mprint\u001b[0m\u001b[0;34m(\u001b[0m\u001b[0mclassification_report\u001b[0m\u001b[0;34m(\u001b[0m\u001b[0my_test\u001b[0m\u001b[0;34m,\u001b[0m\u001b[0mrfc_pred\u001b[0m\u001b[0;34m)\u001b[0m\u001b[0;34m)\u001b[0m\u001b[0;34m\u001b[0m\u001b[0;34m\u001b[0m\u001b[0m\n\u001b[0m",
      "\u001b[0;31mNameError\u001b[0m: name 'classification_report' is not defined"
     ]
    }
   ],
   "source": [
    "#summary of predicioton results\n",
    "rfc_pred= rfc.predict(X_test)\n",
    "print(confusion_matrix(y_test,rfc_pred))\n",
    "print('\\n')\n",
    "print(classification_report(y_test,rfc_pred))"
   ]
  },
  {
   "cell_type": "code",
   "execution_count": 49,
   "metadata": {},
   "outputs": [
    {
     "data": {
      "text/plain": [
       "Text(69.0, 0.5, 'Truth')"
      ]
     },
     "execution_count": 49,
     "metadata": {},
     "output_type": "execute_result"
    },
    {
     "data": {
      "image/png": "[encoded data removed]",
      "text/plain": [
       "<Figure size 720x720 with 2 Axes>"
      ]
     },
     "metadata": {
      "needs_background": "light"
     },
     "output_type": "display_data"
    }
   ],
   "source": [
    "#plot visually\n",
    "plt.figure(figsize=(10,10))\n",
    "sns.heatmap(cm, annot = True)\n",
    "plt.xlabel('Predicted')\n",
    "plt.ylabel('Truth')\n",
    "# The model predicted 48 times 0 and truth was 0, model predicted 25 times 0, but truth was 2  )"
   ]
  },
  {
   "cell_type": "code",
   "execution_count": null,
   "metadata": {},
   "outputs": [],
   "source": [
    "from sklearn.feature_selection import SelectFromModel"
   ]
  },
  {
   "cell_type": "code",
   "execution_count": 63,
   "metadata": {},
   "outputs": [
    {
     "name": "stdout",
     "output_type": "stream",
     "text": [
      "Feature ranking:\n",
      "('Unnamed: 0', 0.06046703891981939)\n",
      "('race', 0.49201256877281224)\n",
      "('gender', 0.1084367015156993)\n",
      "('age', 0.29308561809615635)\n",
      "('days_in_hospital', 0.023713293802631225)\n",
      "('num_lab_procedures', 0.022284778892881527)\n"
     ]
    },
    {
     "data": {
      "image/png": "[encoded data removed]",
      "text/plain": [
       "<Figure size 432x288 with 1 Axes>"
      ]
     },
     "metadata": {
      "needs_background": "light"
     },
     "output_type": "display_data"
    }
   ],
   "source": [
    "from sklearn.datasets import make_classification\n",
    "from sklearn.ensemble import ExtraTreesClassifier\n",
    "\n",
    "# Build a classification task using 3 informative features\n",
    "X, y = make_classification(n_samples=1000,\n",
    "                           n_features=6,\n",
    "                           random_state=0,\n",
    "                           shuffle=False)\n",
    "\n",
    "\n",
    "\n",
    "rfc.fit(X, y)\n",
    "importances = rfc.feature_importances_\n",
    "std = np.std([tree.feature_importances_ for tree in rfc.estimators_],\n",
    "             axis=0)\n",
    "indices = np.argsort(importances)[::-1]\n",
    "\n",
    "# Print the feature ranking\n",
    "print(\"Feature ranking:\")\n",
    "\n",
    "for feature in zip(columns, rfc.feature_importances_):\n",
    "    print(feature)\n",
    "\n",
    "# Plot the feature importances of the forest\n",
    "plt.figure()\n",
    "plt.title(\"Feature importances\")\n",
    "plt.bar(range(X.shape[1]), importances[indices],\n",
    "       color=\"r\", yerr=std[indices], align=\"center\")\n",
    "plt.xticks(range(X.shape[1]), indices)\n",
    "plt.xlim([-1, X.shape[1]])\n",
    "plt.show()"
   ]
  },
  {
   "cell_type": "code",
   "execution_count": null,
   "metadata": {},
   "outputs": [],
   "source": []
  },
  {
   "cell_type": "code",
   "execution_count": 65,
   "metadata": {},
   "outputs": [
    {
     "data": {
      "image/png": "[encoded data removed]",
      "text/plain": [
       "<Figure size 720x432 with 1 Axes>"
      ]
     },
     "metadata": {
      "needs_background": "light"
     },
     "output_type": "display_data"
    }
   ],
   "source": [
    "feature_names = X_train.columns\n",
    "feature_imports = rfc.feature_importances_\n",
    "most_imp_features = pd.DataFrame([f for f in zip(feature_names,feature_imports)], columns=[\"Feature\", \"Importance\"]).nlargest(3, \"Importance\")\n",
    "most_imp_features.sort_values(by=\"Importance\", inplace=True)\n",
    "plt.figure(figsize=(10,6))\n",
    "plt.barh(range(len(most_imp_features)), most_imp_features.Importance, align='center', alpha=0.8)\n",
    "plt.yticks(range(len(most_imp_features)), most_imp_features.Feature, fontsize=14)\n",
    "plt.xlabel('Importance')\n",
    "plt.title('Most important features - Random Forest ')\n",
    "plt.show()"
   ]
  },
  {
   "cell_type": "code",
   "execution_count": null,
   "metadata": {},
   "outputs": [],
   "source": []
  }
 ],
 "metadata": {
  "kernelspec": {
   "display_name": "Python 3",
   "language": "python",
   "name": "python3"
  },
  "language_info": {
   "codemirror_mode": {
    "name": "ipython",
    "version": 3
   },
   "file_extension": ".py",
   "mimetype": "text/x-python",
   "name": "python",
   "nbconvert_exporter": "python",
   "pygments_lexer": "ipython3",
   "version": "3.7.6"
  }
 },
 "nbformat": 4,
 "nbformat_minor": 4
}
